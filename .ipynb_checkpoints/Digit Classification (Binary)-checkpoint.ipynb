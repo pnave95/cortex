{
 "cells": [
  {
   "cell_type": "code",
   "execution_count": 1,
   "metadata": {},
   "outputs": [],
   "source": [
    "import numpy\n",
    "import matplotlib.pyplot as plt\n",
    "from sklearn.datasets import load_digits\n",
    "\n",
    "from BASIC_spatial_pooler import SpatialPooler"
   ]
  },
  {
   "cell_type": "code",
   "execution_count": 2,
   "metadata": {},
   "outputs": [],
   "source": [
    "digits = load_digits()"
   ]
  },
  {
   "cell_type": "code",
   "execution_count": 3,
   "metadata": {},
   "outputs": [
    {
     "name": "stdout",
     "output_type": "stream",
     "text": [
      "Image data shape (1797, 64)\n",
      "Label data shape (1797,)\n"
     ]
    }
   ],
   "source": [
    "# We see that we have 1797 images, each 8x8=64 pixels\n",
    "print(\"Image data shape\", digits.data.shape)\n",
    "\n",
    "# And we see we have the right number of labels (integers from 0-9)\n",
    "print(\"Label data shape\", digits.target.shape)"
   ]
  },
  {
   "cell_type": "code",
   "execution_count": 4,
   "metadata": {},
   "outputs": [
    {
     "data": {
      "image/png": "[encoded data removed]",
      "text/plain": [
       "<Figure size 1440x288 with 5 Axes>"
      ]
     },
     "metadata": {},
     "output_type": "display_data"
    }
   ],
   "source": [
    "# Show a few training images\n",
    "plt.figure(figsize=(20,4))\n",
    "for index, (image,label) in enumerate(zip(digits.data[0:5], digits.target[0:5])):\n",
    "    plt.subplot(1, 5, index + 1)\n",
    "    plt.imshow(numpy.reshape(image, (8,8)), cmap=plt.cm.gray)\n",
    "    plt.title('Training: %i\\n' % label, fontsize=20)"
   ]
  },
  {
   "cell_type": "code",
   "execution_count": 5,
   "metadata": {},
   "outputs": [
    {
     "data": {
      "text/plain": [
       "sklearn.utils.Bunch"
      ]
     },
     "execution_count": 5,
     "metadata": {},
     "output_type": "execute_result"
    }
   ],
   "source": [
    "type(digits)\n",
    "binary_digits = load_digits()\n",
    "type(binary_digits)"
   ]
  },
  {
   "cell_type": "code",
   "execution_count": 6,
   "metadata": {},
   "outputs": [
    {
     "data": {
      "text/plain": [
       "array([ 0.,  0.,  5., 13.,  9.,  1.,  0.,  0.,  0.,  0., 13., 15., 10.,\n",
       "       15.,  5.,  0.,  0.,  3., 15.,  2.,  0., 11.,  8.,  0.,  0.,  4.,\n",
       "       12.,  0.,  0.,  8.,  8.,  0.,  0.,  5.,  8.,  0.,  0.,  9.,  8.,\n",
       "        0.,  0.,  4., 11.,  0.,  1., 12.,  7.,  0.,  0.,  2., 14.,  5.,\n",
       "       10., 12.,  0.,  0.,  0.,  0.,  6., 13., 10.,  0.,  0.,  0.])"
      ]
     },
     "execution_count": 6,
     "metadata": {},
     "output_type": "execute_result"
    }
   ],
   "source": [
    "binary_digits.data[0]"
   ]
  },
  {
   "cell_type": "code",
   "execution_count": 7,
   "metadata": {},
   "outputs": [],
   "source": [
    "# Create a spatial pooler object\n",
    "inputDimensions = (8,8)\n",
    "columnDimensions = (16,16)\n",
    "potentialRadius = 3\n",
    "potentialPct = 0.5\n",
    "sparsity = 0.05\n",
    "stimulusThreshold = 2\n",
    "synPermInactiveDec = 0.008\n",
    "synPermActiveInc = 0.05\n",
    "synConnectedPermThreshold = 0.1\n",
    "dutyCyclePeriod=100\n",
    "boostStrength=2.0\n",
    "learn=True\n",
    "seed=12345\n",
    "debug=False\n",
    "sp = SpatialPooler(inputDimensions, columnDimensions, potentialRadius, potentialPct, sparsity, stimulusThreshold, synPermInactiveDec, synPermActiveInc, synConnectedPermThreshold, dutyCyclePeriod, boostStrength, learn, seed, debug)"
   ]
  },
  {
   "cell_type": "code",
   "execution_count": 8,
   "metadata": {},
   "outputs": [
    {
     "data": {
      "image/png": "[encoded data removed]",
      "text/plain": [
       "<Figure size 1440x288 with 5 Axes>"
      ]
     },
     "metadata": {},
     "output_type": "display_data"
    }
   ],
   "source": [
    "# Now, let's threshold the data\n",
    "threshold = 12\n",
    "#binary_digits = numpy.copy(digits)\n",
    "binary_digits.data[digits.data < threshold] = 0.0\n",
    "binary_digits.data[digits.data > 0.0] = 1.0\n",
    "\n",
    "# Show the same training images after thresholding\n",
    "plt.figure(figsize=(20,4))\n",
    "for index, (image,label) in enumerate(zip(binary_digits.data[0:5], binary_digits.target[0:5])):\n",
    "    plt.subplot(1, 5, index + 1)\n",
    "    plt.imshow(numpy.reshape(image, (8,8)), cmap=plt.cm.gray)\n",
    "    plt.title('Training: %i\\n' % label, fontsize=20)\n"
   ]
  },
  {
   "cell_type": "code",
   "execution_count": null,
   "metadata": {},
   "outputs": [],
   "source": []
  },
  {
   "cell_type": "code",
   "execution_count": 9,
   "metadata": {},
   "outputs": [],
   "source": [
    "# Split data into training and testing sets\n",
    "from sklearn.model_selection import train_test_split\n",
    "\n",
    "x_train, x_test, y_train, y_test = train_test_split(binary_digits.data, binary_digits.target, test_size=0.25, random_state=0)"
   ]
  },
  {
   "cell_type": "code",
   "execution_count": 10,
   "metadata": {},
   "outputs": [],
   "source": [
    "# train the spatial pooler on the training data"
   ]
  },
  {
   "cell_type": "code",
   "execution_count": 11,
   "metadata": {},
   "outputs": [],
   "source": [
    "type(x_train)\n",
    "x_train.shape\n",
    "num_training_images = 1347\n",
    "\n",
    "x_train[0].shape\n",
    "for image in x_train:\n",
    "    sp.compute(image.reshape((8,8)))"
   ]
  },
  {
   "cell_type": "code",
   "execution_count": 12,
   "metadata": {},
   "outputs": [],
   "source": [
    "# now turn off learning for spatial pooler and generate a\n",
    "# new dataset of spatial pooler representations for the \n",
    "# classifier to learn from (still over training data)\n",
    "#sp._learn = False\n",
    "\n",
    "SDR_train = numpy.zeros((1347,256))\n",
    "index = 0\n",
    "for image in x_train:\n",
    "    sp.compute(image.reshape((8,8)))\n",
    "    SDR = sp._columnActivations\n",
    "    SDR_train[index] = SDR.reshape(-1)\n",
    "    index = index + 1"
   ]
  },
  {
   "cell_type": "code",
   "execution_count": 13,
   "metadata": {},
   "outputs": [],
   "source": [
    "# Now repeat to create testing dataset\n",
    "x_test.shape # (450, 64)\n",
    "\n",
    "SDR_test = numpy.zeros((450,256))\n",
    "index = 0\n",
    "for image in x_test:\n",
    "    sp.compute(image.reshape((8,8)))\n",
    "    SDR = sp._columnActivations\n",
    "    SDR_test[index] = SDR.reshape(-1)\n",
    "    index = index + 1"
   ]
  },
  {
   "cell_type": "code",
   "execution_count": 14,
   "metadata": {},
   "outputs": [],
   "source": [
    "# import scikit learn logistic regression ML model\n",
    "from sklearn.linear_model import LogisticRegression"
   ]
  },
  {
   "cell_type": "code",
   "execution_count": 15,
   "metadata": {},
   "outputs": [
    {
     "data": {
      "text/plain": [
       "LogisticRegression(C=1.0, class_weight=None, dual=False, fit_intercept=True,\n",
       "          intercept_scaling=1, max_iter=100, multi_class='ovr', n_jobs=1,\n",
       "          penalty='l2', random_state=None, solver='liblinear', tol=0.0001,\n",
       "          verbose=0, warm_start=False)"
      ]
     },
     "execution_count": 15,
     "metadata": {},
     "output_type": "execute_result"
    }
   ],
   "source": [
    "# Create a model instance\n",
    "LRmodel = LogisticRegression()\n",
    "\n",
    "# train model and store information learned\n",
    "# x is digit images and y is labels\n",
    "#LRmodel.fit(x_train, y_train)\n",
    "LRmodel.fit(SDR_train, y_train)"
   ]
  },
  {
   "cell_type": "code",
   "execution_count": 16,
   "metadata": {},
   "outputs": [
    {
     "data": {
      "text/plain": [
       "array([9])"
      ]
     },
     "execution_count": 16,
     "metadata": {},
     "output_type": "execute_result"
    }
   ],
   "source": [
    "# predict labels for first test image\n",
    "#LRmodel.predict(x_test[0].reshape(1,-1))\n",
    "LRmodel.predict(SDR_test[0].reshape(1,-1))"
   ]
  },
  {
   "cell_type": "code",
   "execution_count": 17,
   "metadata": {},
   "outputs": [],
   "source": [
    "# get all test predictions\n",
    "predictions = LRmodel.predict(SDR_test)"
   ]
  },
  {
   "cell_type": "code",
   "execution_count": 18,
   "metadata": {},
   "outputs": [
    {
     "name": "stdout",
     "output_type": "stream",
     "text": [
      "0.09333333333333334\n"
     ]
    }
   ],
   "source": [
    "# compute accuracy\n",
    "score = LRmodel.score(SDR_test, y_test)\n",
    "print(score)"
   ]
  },
  {
   "cell_type": "code",
   "execution_count": 19,
   "metadata": {},
   "outputs": [
    {
     "data": {
      "image/png": "[encoded data removed]",
      "text/plain": [
       "<Figure size 1440x288 with 5 Axes>"
      ]
     },
     "metadata": {},
     "output_type": "display_data"
    }
   ],
   "source": [
    "# Are SDR's actually changing?\n",
    "# Show the same training images after thresholding\n",
    "plt.figure(figsize=(20,4))\n",
    "for index, (image,label) in enumerate(zip(SDR_test[0:5], y_test[0:5])):\n",
    "    plt.subplot(1, 5, index + 1)\n",
    "    plt.imshow(numpy.reshape(image, (16,16)), cmap=plt.cm.gray)\n",
    "    plt.title('Testing: %i\\n' % label, fontsize=20)\n"
   ]
  },
  {
   "cell_type": "code",
   "execution_count": 20,
   "metadata": {},
   "outputs": [
    {
     "name": "stdout",
     "output_type": "stream",
     "text": [
      "[[ 72]\n",
      " [ 73]\n",
      " [121]\n",
      " [134]\n",
      " [137]\n",
      " [138]\n",
      " [139]\n",
      " [150]\n",
      " [171]\n",
      " [185]\n",
      " [186]\n",
      " [200]\n",
      " [216]]\n",
      "[[ 56]\n",
      " [ 70]\n",
      " [118]\n",
      " [120]\n",
      " [147]\n",
      " [151]\n",
      " [152]\n",
      " [170]\n",
      " [180]\n",
      " [184]\n",
      " [187]\n",
      " [199]\n",
      " [217]]\n"
     ]
    }
   ],
   "source": [
    "# check first two test cases\n",
    "#SDR1 = SDR_test[0]\n",
    "#SDR2 = SDR_test[1]\n",
    "\n",
    "#print(numpy.argwhere(SDR1 > 0))\n",
    "#print(numpy.argwhere(SDR2 > 0))"
   ]
  },
  {
   "cell_type": "code",
   "execution_count": 21,
   "metadata": {},
   "outputs": [
    {
     "data": {
      "text/plain": [
       "array([9.46284702e-16, 9.46284702e-16, 9.46284702e-16, 9.46284702e-16,\n",
       "       9.46284702e-16, 9.46284702e-16, 9.46284702e-16, 9.46284702e-16,\n",
       "       9.46284702e-16, 9.46284702e-16, 9.46284702e-16, 9.46284702e-16,\n",
       "       9.46284702e-16, 9.46284702e-16, 9.46284702e-16, 9.46284702e-16,\n",
       "       9.46284702e-16, 9.46284702e-16, 9.46284702e-16, 9.46284702e-16,\n",
       "       9.46284702e-16, 9.46284702e-16, 9.46284702e-16, 9.46284702e-16,\n",
       "       9.46284702e-16, 9.46284702e-16, 9.46284702e-16, 9.46284702e-16,\n",
       "       9.46284702e-16, 9.46284702e-16, 9.46284702e-16, 9.46284702e-16,\n",
       "       9.46284702e-16, 9.46284702e-16, 9.46284702e-16, 9.46284702e-16,\n",
       "       9.46284702e-16, 9.46284702e-16, 9.46284702e-16, 9.46284702e-16,\n",
       "       9.46284702e-16, 9.46284702e-16, 9.46284702e-16, 9.46284702e-16,\n",
       "       9.46284702e-16, 9.46284702e-16, 9.46284702e-16, 9.46284702e-16,\n",
       "       9.46284702e-16, 9.46284702e-16, 9.46284702e-16, 9.46284702e-16,\n",
       "       9.46284702e-16, 9.46284702e-16, 9.46284702e-16, 9.46284702e-16,\n",
       "       5.02512563e-01, 9.46284702e-16, 9.46284702e-16, 9.46284702e-16,\n",
       "       9.46284702e-16, 9.46284702e-16, 9.46284702e-16, 9.46284702e-16,\n",
       "       9.46284702e-16, 9.46284702e-16, 9.46284702e-16, 9.46284702e-16,\n",
       "       9.46284702e-16, 9.46284702e-16, 5.02512563e-01, 9.46284702e-16,\n",
       "       4.97487437e-01, 4.97487437e-01, 9.46284702e-16, 9.46284702e-16,\n",
       "       9.46284702e-16, 9.46284702e-16, 9.46284702e-16, 9.46284702e-16,\n",
       "       9.46284702e-16, 9.46284702e-16, 9.46284702e-16, 9.46284702e-16,\n",
       "       9.46284702e-16, 9.46284702e-16, 9.46284702e-16, 9.46284702e-16,\n",
       "       9.46284702e-16, 9.46284702e-16, 9.46284702e-16, 9.46284702e-16,\n",
       "       9.46284702e-16, 9.46284702e-16, 9.46284702e-16, 9.46284702e-16,\n",
       "       9.46284702e-16, 9.46284702e-16, 9.46284702e-16, 9.46284702e-16,\n",
       "       9.46284702e-16, 9.46284702e-16, 9.46284702e-16, 9.46284702e-16,\n",
       "       9.46284702e-16, 9.46284702e-16, 9.46284702e-16, 9.46284702e-16,\n",
       "       9.46284702e-16, 9.46284702e-16, 9.46284702e-16, 9.46284702e-16,\n",
       "       9.46284702e-16, 9.46284702e-16, 9.46284702e-16, 9.46284702e-16,\n",
       "       9.46284702e-16, 9.46284702e-16, 5.02512563e-01, 9.46284702e-16,\n",
       "       5.02512563e-01, 4.97487437e-01, 9.46284702e-16, 9.46284702e-16,\n",
       "       9.46284702e-16, 9.46284702e-16, 9.46284702e-16, 9.46284702e-16,\n",
       "       9.46284702e-16, 9.46284702e-16, 9.46284702e-16, 9.46284702e-16,\n",
       "       9.46284702e-16, 9.46284702e-16, 4.97487437e-01, 9.46284702e-16,\n",
       "       9.46284702e-16, 4.97487437e-01, 4.97487437e-01, 4.97487437e-01,\n",
       "       9.46284702e-16, 9.46284702e-16, 9.46284702e-16, 9.46284702e-16,\n",
       "       9.46284702e-16, 9.46284702e-16, 9.46284702e-16, 5.02512563e-01,\n",
       "       9.46284702e-16, 9.46284702e-16, 4.97487437e-01, 5.02512563e-01,\n",
       "       5.02512563e-01, 9.46284702e-16, 9.46284702e-16, 9.46284702e-16,\n",
       "       9.46284702e-16, 9.46284702e-16, 9.46284702e-16, 9.46284702e-16,\n",
       "       9.46284702e-16, 9.46284702e-16, 9.46284702e-16, 9.46284702e-16,\n",
       "       9.46284702e-16, 9.46284702e-16, 9.46284702e-16, 9.46284702e-16,\n",
       "       9.46284702e-16, 9.46284702e-16, 5.02512563e-01, 4.97487437e-01,\n",
       "       9.46284702e-16, 9.46284702e-16, 9.46284702e-16, 9.46284702e-16,\n",
       "       9.46284702e-16, 9.46284702e-16, 9.46284702e-16, 9.46284702e-16,\n",
       "       5.02512563e-01, 9.46284702e-16, 9.46284702e-16, 9.46284702e-16,\n",
       "       5.02512563e-01, 4.97487437e-01, 4.97487437e-01, 5.02512563e-01,\n",
       "       9.46284702e-16, 9.46284702e-16, 9.46284702e-16, 9.46284702e-16,\n",
       "       9.46284702e-16, 9.46284702e-16, 9.46284702e-16, 9.46284702e-16,\n",
       "       9.46284702e-16, 9.46284702e-16, 9.46284702e-16, 5.02512563e-01,\n",
       "       4.97487437e-01, 9.46284702e-16, 9.46284702e-16, 9.46284702e-16,\n",
       "       9.46284702e-16, 9.46284702e-16, 9.46284702e-16, 9.46284702e-16,\n",
       "       9.46284702e-16, 9.46284702e-16, 9.46284702e-16, 9.46284702e-16,\n",
       "       9.46284702e-16, 9.46284702e-16, 9.46284702e-16, 9.46284702e-16,\n",
       "       4.97487437e-01, 5.02512563e-01, 9.46284702e-16, 9.46284702e-16,\n",
       "       9.46284702e-16, 9.46284702e-16, 9.46284702e-16, 9.46284702e-16,\n",
       "       9.46284702e-16, 9.46284702e-16, 9.46284702e-16, 9.46284702e-16,\n",
       "       9.46284702e-16, 9.46284702e-16, 9.46284702e-16, 9.46284702e-16,\n",
       "       9.46284702e-16, 9.46284702e-16, 9.46284702e-16, 9.46284702e-16,\n",
       "       9.46284702e-16, 9.46284702e-16, 9.46284702e-16, 9.46284702e-16,\n",
       "       9.46284702e-16, 9.46284702e-16, 9.46284702e-16, 9.46284702e-16,\n",
       "       9.46284702e-16, 9.46284702e-16, 9.46284702e-16, 9.46284702e-16,\n",
       "       9.46284702e-16, 9.46284702e-16, 9.46284702e-16, 9.46284702e-16,\n",
       "       9.46284702e-16, 9.46284702e-16, 9.46284702e-16, 9.46284702e-16])"
      ]
     },
     "execution_count": 21,
     "metadata": {},
     "output_type": "execute_result"
    }
   ],
   "source": [
    "#sp._boostFactors\n",
    "#sp._activeDutyCycles"
   ]
  },
  {
   "cell_type": "code",
   "execution_count": 22,
   "metadata": {},
   "outputs": [
    {
     "data": {
      "text/plain": [
       "array([0., 0., 0., 0., 0., 0., 0., 0., 0., 0., 0., 0., 0., 0., 0., 0., 0.,\n",
       "       0., 0., 0., 0., 0., 0., 0., 0., 0., 0., 0., 0., 0., 0., 0., 0., 0.,\n",
       "       0., 0., 0., 0., 0., 0., 0., 0., 0., 0., 0., 0., 0., 0., 0., 0., 0.,\n",
       "       0., 0., 0., 0., 0., 1., 0., 0., 0., 0., 0., 0., 0., 0., 0., 0., 0.,\n",
       "       0., 0., 1., 0., 0., 0., 0., 0., 0., 0., 0., 0., 0., 0., 0., 0., 0.,\n",
       "       0., 0., 0., 0., 0., 0., 0., 0., 0., 0., 0., 0., 0., 0., 0., 0., 0.,\n",
       "       0., 0., 0., 0., 0., 0., 0., 0., 0., 0., 0., 0., 0., 0., 0., 0., 1.,\n",
       "       0., 1., 0., 0., 0., 0., 0., 0., 0., 0., 0., 0., 0., 0., 0., 0., 0.,\n",
       "       0., 0., 0., 0., 0., 0., 0., 0., 0., 0., 0., 1., 0., 0., 0., 1., 1.,\n",
       "       0., 0., 0., 0., 0., 0., 0., 0., 0., 0., 0., 0., 0., 0., 0., 0., 0.,\n",
       "       1., 0., 0., 0., 0., 0., 0., 0., 0., 0., 1., 0., 0., 0., 1., 0., 0.,\n",
       "       1., 0., 0., 0., 0., 0., 0., 0., 0., 0., 0., 0., 1., 0., 0., 0., 0.,\n",
       "       0., 0., 0., 0., 0., 0., 0., 0., 0., 0., 0., 0., 0., 1., 0., 0., 0.,\n",
       "       0., 0., 0., 0., 0., 0., 0., 0., 0., 0., 0., 0., 0., 0., 0., 0., 0.,\n",
       "       0., 0., 0., 0., 0., 0., 0., 0., 0., 0., 0., 0., 0., 0., 0., 0., 0.,\n",
       "       0.])"
      ]
     },
     "execution_count": 22,
     "metadata": {},
     "output_type": "execute_result"
    }
   ],
   "source": [
    "sp._columnActivations"
   ]
  },
  {
   "cell_type": "code",
   "execution_count": 23,
   "metadata": {},
   "outputs": [
    {
     "data": {
      "text/plain": [
       "array([[0.06104056, 0.05923768, 0.11392853, ..., 0.        , 0.        ,\n",
       "        0.        ],\n",
       "       [0.1236176 , 0.09596028, 0.03239584, ..., 0.        , 0.        ,\n",
       "        0.        ],\n",
       "       [0.10715581, 0.07250236, 0.06196073, ..., 0.        , 0.        ,\n",
       "        0.        ],\n",
       "       ...,\n",
       "       [0.        , 0.        , 0.        , ..., 0.08664305, 0.06956223,\n",
       "        0.11389301],\n",
       "       [0.        , 0.        , 0.        , ..., 0.01399068, 0.15102365,\n",
       "        0.02499167],\n",
       "       [0.        , 0.        , 0.        , ..., 0.08581495, 0.04568728,\n",
       "        0.10464586]])"
      ]
     },
     "execution_count": 23,
     "metadata": {},
     "output_type": "execute_result"
    }
   ],
   "source": [
    "sp._permanences"
   ]
  },
  {
   "cell_type": "code",
   "execution_count": 24,
   "metadata": {},
   "outputs": [
    {
     "data": {
      "text/plain": [
       "16384"
      ]
     },
     "execution_count": 24,
     "metadata": {},
     "output_type": "execute_result"
    }
   ],
   "source": [
    "len(numpy.argwhere(sp._permanences.reshape(-1) > 0.00)) # 6552\n",
    "len(sp._permanences.reshape(-1)) # 16384"
   ]
  },
  {
   "cell_type": "code",
   "execution_count": 25,
   "metadata": {},
   "outputs": [
    {
     "data": {
      "text/plain": [
       "[<matplotlib.lines.Line2D at 0x7f55d1066da0>]"
      ]
     },
     "execution_count": 25,
     "metadata": {},
     "output_type": "execute_result"
    },
    {
     "data": {
      "image/png": "[encoded data removed]",
      "text/plain": [
       "<Figure size 432x288 with 1 Axes>"
      ]
     },
     "metadata": {},
     "output_type": "display_data"
    }
   ],
   "source": [
    "# visualize active duty cycles\n",
    "plt.plot(numpy.array(list(range(sp._numColumns))), sp._activeDutyCycles)"
   ]
  },
  {
   "cell_type": "code",
   "execution_count": 26,
   "metadata": {},
   "outputs": [
    {
     "data": {
      "text/plain": [
       "<matplotlib.image.AxesImage at 0x7f55d4ea3e48>"
      ]
     },
     "execution_count": 26,
     "metadata": {},
     "output_type": "execute_result"
    },
    {
     "data": {
      "image/png": "[encoded data removed]",
      "text/plain": [
       "<Figure size 432x288 with 1 Axes>"
      ]
     },
     "metadata": {},
     "output_type": "display_data"
    }
   ],
   "source": [
    "plt.imshow(numpy.reshape(sp._activeDutyCycles, (16,16)), cmap=plt.cm.gray)"
   ]
  },
  {
   "cell_type": "code",
   "execution_count": null,
   "metadata": {},
   "outputs": [],
   "source": []
  }
 ],
 "metadata": {
  "kernelspec": {
   "display_name": "Python 3",
   "language": "python",
   "name": "python3"
  },
  "language_info": {
   "codemirror_mode": {
    "name": "ipython",
    "version": 3
   },
   "file_extension": ".py",
   "mimetype": "text/x-python",
   "name": "python",
   "nbconvert_exporter": "python",
   "pygments_lexer": "ipython3",
   "version": "3.6.5"
  }
 },
 "nbformat": 4,
 "nbformat_minor": 2
}
