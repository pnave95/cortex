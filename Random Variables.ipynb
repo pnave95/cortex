{
 "cells": [
  {
   "cell_type": "code",
   "execution_count": 62,
   "metadata": {},
   "outputs": [],
   "source": [
    "import numpy\n",
    "from scipy.stats import rv_continuous\n",
    "import random\n",
    "from matplotlib import pyplot as plt\n",
    "%matplotlib inline"
   ]
  },
  {
   "cell_type": "code",
   "execution_count": 2,
   "metadata": {},
   "outputs": [],
   "source": [
    "class Triangle_rv(rv_continuous):\n",
    "    def _pdf(self, x):\n",
    "        if x <=0.0 or x >= 1.0:\n",
    "            return 0.0\n",
    "        elif x <= 0.5:\n",
    "            return 4.0*x\n",
    "        else: # 0.5 < x < 1.0\n",
    "            return 4 - 4.0*x"
   ]
  },
  {
   "cell_type": "code",
   "execution_count": 4,
   "metadata": {},
   "outputs": [],
   "source": [
    "triangle = Triangle_rv(a=0.0,b=1.0)"
   ]
  },
  {
   "cell_type": "code",
   "execution_count": 5,
   "metadata": {},
   "outputs": [
    {
     "data": {
      "text/plain": [
       "1.0"
      ]
     },
     "execution_count": 5,
     "metadata": {},
     "output_type": "execute_result"
    }
   ],
   "source": [
    "triangle.cdf(1)"
   ]
  },
  {
   "cell_type": "code",
   "execution_count": 6,
   "metadata": {},
   "outputs": [
    {
     "data": {
      "text/plain": [
       "2.0"
      ]
     },
     "execution_count": 6,
     "metadata": {},
     "output_type": "execute_result"
    }
   ],
   "source": [
    "triangle.pdf(0.5)"
   ]
  },
  {
   "cell_type": "code",
   "execution_count": 7,
   "metadata": {},
   "outputs": [],
   "source": [
    "# Check if scipy will catch an invalid pdf description\n",
    "class Unbounded_rv(rv_continuous):\n",
    "    def _pdf(self,x):\n",
    "        if x <= 0.5:\n",
    "            return 4.0*x\n",
    "        else:\n",
    "            return 4 - 4.0*x"
   ]
  },
  {
   "cell_type": "code",
   "execution_count": 8,
   "metadata": {},
   "outputs": [],
   "source": [
    "bad_triangle = Unbounded_rv()"
   ]
  },
  {
   "cell_type": "code",
   "execution_count": 9,
   "metadata": {},
   "outputs": [
    {
     "name": "stderr",
     "output_type": "stream",
     "text": [
      "/home/patrick/anaconda3/lib/python3.6/site-packages/scipy/integrate/quadpack.py:385: IntegrationWarning: The algorithm does not converge.  Roundoff error is detected\n",
      "  in the extrapolation table.  It is assumed that the requested tolerance\n",
      "  cannot be achieved, and that the returned result (if full_output = 1) is \n",
      "  the best which can be obtained.\n",
      "  warnings.warn(msg, IntegrationWarning)\n"
     ]
    },
    {
     "data": {
      "text/plain": [
       "-1.679743221855993e+20"
      ]
     },
     "execution_count": 9,
     "metadata": {},
     "output_type": "execute_result"
    }
   ],
   "source": [
    "bad_triangle.cdf(1)"
   ]
  },
  {
   "cell_type": "code",
   "execution_count": 10,
   "metadata": {},
   "outputs": [],
   "source": [
    "#  This is unfortunate.  It appears that scipy does not check\n",
    "# the validity of continous random variable object pdfs"
   ]
  },
  {
   "cell_type": "code",
   "execution_count": 11,
   "metadata": {},
   "outputs": [
    {
     "data": {
      "text/plain": [
       "0.0"
      ]
     },
     "execution_count": 11,
     "metadata": {},
     "output_type": "execute_result"
    }
   ],
   "source": [
    "bad_triangle.pdf(1)"
   ]
  },
  {
   "cell_type": "code",
   "execution_count": 12,
   "metadata": {},
   "outputs": [
    {
     "data": {
      "text/plain": [
       "-8.0"
      ]
     },
     "execution_count": 12,
     "metadata": {},
     "output_type": "execute_result"
    }
   ],
   "source": [
    "bad_triangle.pdf(3)"
   ]
  },
  {
   "cell_type": "code",
   "execution_count": 13,
   "metadata": {},
   "outputs": [],
   "source": [
    "# Horrible!!  It doesn't even catch negative values!"
   ]
  },
  {
   "cell_type": "code",
   "execution_count": 63,
   "metadata": {},
   "outputs": [],
   "source": [
    "# Try creating a variable triangle \n",
    "class Concentrated_rv(rv_continuous):\n",
    "    \n",
    "    def __init__(self, a, b, m=0.5, seed=12345):\n",
    "        assert(a < m < b)\n",
    "        super().__init__(a=a, b=b)\n",
    "        self.m = m # midpoint (or other point between a and b)\n",
    "        \n",
    "        self.width = self.b - self.a\n",
    "        self.height = 2.0 / self.width\n",
    "        random.seed(seed)\n",
    "        \n",
    "    def _pdf(self,x):\n",
    "        if x <= self.a:\n",
    "            return 0.0\n",
    "        elif x >= self.b:\n",
    "            return 0.0\n",
    "        elif x <= self.m:\n",
    "            return (self.height / (self.m - self.a)) * (x - self.a)\n",
    "        else: # x > self.m\n",
    "            return self.height - (self.height / (self.b - self.m)) * (x - self.m)\n",
    "    \n",
    "    # vectorized pdf and cdf functions; these will compute the pdf, cdf\n",
    "    # function values for each x value in an array\n",
    "    #vpdf = numpy.vectorize(self.pdf)\n",
    "    #numpy.vectorize(self.cdf)\n",
    "    \n",
    "    def plotpdf(self):\n",
    "        x = numpy.linspace(0.0, 1.0, 100)\n",
    "        #y = self.pdf(x)\n",
    "        #y = numpy.apply_along_axis(self.pdf, 0, x)\n",
    "        vpdf = numpy.vectorize(self.pdf)\n",
    "        y = vpdf(x)\n",
    "        plt.plot(x,y)\n",
    "    \n",
    "    def plotcdf(self):\n",
    "        x = numpy.linspace(0.0, 1.0, 100)\n",
    "        #y = numpy.apply_along_axis(self.cdf, 0, x)\n",
    "        #y = self.vcdf(x)\n",
    "        vcdf = numpy.vectorize(self.cdf)\n",
    "        y = vcdf(x)\n",
    "        plt.plot(x,y)\n",
    "    \n",
    "    def sample(self):\n",
    "        return self.cdf(random.uniform(0,1))"
   ]
  },
  {
   "cell_type": "code",
   "execution_count": 64,
   "metadata": {},
   "outputs": [],
   "source": [
    "RV = Concentrated_rv(0.0,0.2,0.1)"
   ]
  },
  {
   "cell_type": "code",
   "execution_count": 65,
   "metadata": {},
   "outputs": [
    {
     "name": "stdout",
     "output_type": "stream",
     "text": [
      "0.0\n",
      "0.0\n"
     ]
    },
    {
     "data": {
      "text/plain": [
       "1.0"
      ]
     },
     "execution_count": 65,
     "metadata": {},
     "output_type": "execute_result"
    }
   ],
   "source": [
    "print(RV._pdf(0.5))\n",
    "print(RV.pdf(0.5))\n",
    "RV.cdf(0.5)"
   ]
  },
  {
   "cell_type": "code",
   "execution_count": 66,
   "metadata": {},
   "outputs": [
    {
     "data": {
      "image/png": "[encoded data removed]",
      "text/plain": [
       "<Figure size 432x288 with 1 Axes>"
      ]
     },
     "metadata": {},
     "output_type": "display_data"
    }
   ],
   "source": [
    "RV.plotpdf()"
   ]
  },
  {
   "cell_type": "code",
   "execution_count": 67,
   "metadata": {},
   "outputs": [
    {
     "data": {
      "image/png": "[encoded data removed]",
      "text/plain": [
       "<Figure size 432x288 with 1 Axes>"
      ]
     },
     "metadata": {},
     "output_type": "display_data"
    }
   ],
   "source": [
    "RV.plotcdf()"
   ]
  },
  {
   "cell_type": "code",
   "execution_count": null,
   "metadata": {},
   "outputs": [],
   "source": []
  }
 ],
 "metadata": {
  "kernelspec": {
   "display_name": "Python 3",
   "language": "python",
   "name": "python3"
  },
  "language_info": {
   "codemirror_mode": {
    "name": "ipython",
    "version": 3
   },
   "file_extension": ".py",
   "mimetype": "text/x-python",
   "name": "python",
   "nbconvert_exporter": "python",
   "pygments_lexer": "ipython3",
   "version": "3.6.5"
  }
 },
 "nbformat": 4,
 "nbformat_minor": 2
}
