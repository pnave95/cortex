{
 "cells": [
  {
   "cell_type": "code",
   "execution_count": 1,
   "metadata": {},
   "outputs": [],
   "source": [
    "import numpy"
   ]
  },
  {
   "cell_type": "code",
   "execution_count": 3,
   "metadata": {},
   "outputs": [
    {
     "name": "stdout",
     "output_type": "stream",
     "text": [
      "[[ 3  4  5  6  7  8]\n",
      " [ 9 10 11 12 13 14]\n",
      " [15 16 17 18 19 20]\n",
      " [21 22 23 24 25 26]]\n"
     ]
    }
   ],
   "source": [
    "A = numpy.array(list(range(24)))\n",
    "A = A.reshape((4,6)) + 3\n",
    "print(A)"
   ]
  },
  {
   "cell_type": "code",
   "execution_count": 4,
   "metadata": {},
   "outputs": [
    {
     "name": "stdout",
     "output_type": "stream",
     "text": [
      "[[0 1 2]\n",
      " [3 4 5]]\n"
     ]
    }
   ],
   "source": [
    "B = numpy.array(list(range(6)))\n",
    "B = B.reshape((2,3))\n",
    "print(B)"
   ]
  },
  {
   "cell_type": "code",
   "execution_count": 8,
   "metadata": {},
   "outputs": [
    {
     "name": "stdout",
     "output_type": "stream",
     "text": [
      "[0.3333333333333333, 0.2]\n"
     ]
    }
   ],
   "source": [
    "columnCoordinates = numpy.array([1,1])\n",
    "columnDimensions = A.shape\n",
    "inputDimensions = B.shape\n",
    "\n",
    "relativeCoordinates = []\n",
    "for i, L in enumerate(columnDimensions):\n",
    "    x = columnCoordinates[i] / (L-1)\n",
    "    relativeCoordinates.append(x)\n",
    "\n",
    "relativeCoordiantes = numpy.array(relativeCoordinates)\n",
    "print(relativeCoordinates)"
   ]
  },
  {
   "cell_type": "code",
   "execution_count": 9,
   "metadata": {},
   "outputs": [
    {
     "name": "stdout",
     "output_type": "stream",
     "text": [
      "[[0 1 2]\n",
      " [3 4 5]]\n",
      "[[1 2 3]\n",
      " [4 5 6]]\n",
      "[[ 0  2  6]\n",
      " [12 20 30]]\n"
     ]
    }
   ],
   "source": [
    "C = numpy.copy(B) + 1\n",
    "D = numpy.multiply(B,C)\n",
    "print(B)\n",
    "print(C)\n",
    "print(D)"
   ]
  },
  {
   "cell_type": "code",
   "execution_count": null,
   "metadata": {},
   "outputs": [],
   "source": []
  }
 ],
 "metadata": {
  "kernelspec": {
   "display_name": "Python 3",
   "language": "python",
   "name": "python3"
  },
  "language_info": {
   "codemirror_mode": {
    "name": "ipython",
    "version": 3
   },
   "file_extension": ".py",
   "mimetype": "text/x-python",
   "name": "python",
   "nbconvert_exporter": "python",
   "pygments_lexer": "ipython3",
   "version": "3.6.5"
  }
 },
 "nbformat": 4,
 "nbformat_minor": 2
}
